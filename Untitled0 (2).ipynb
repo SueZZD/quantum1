{
  "nbformat": 4,
  "nbformat_minor": 0,
  "metadata": {
    "colab": {
      "provenance": []
    },
    "kernelspec": {
      "name": "python3",
      "display_name": "Python 3"
    },
    "language_info": {
      "name": "python"
    }
  },
  "cells": [
    {
      "cell_type": "markdown",
      "source": [],
      "metadata": {
        "id": "_iWYF3FJAwFH"
      }
    },
    {
      "cell_type": "code",
      "execution_count": null,
      "metadata": {
        "colab": {
          "base_uri": "https://localhost:8080/"
        },
        "id": "3F6Md-xmMpkv",
        "outputId": "27e413b3-a83e-4403-9338-c4e3d97ca614"
      },
      "outputs": [
        {
          "output_type": "stream",
          "name": "stdout",
          "text": [
            "Collecting qiskit\n",
            "  Downloading qiskit-2.0.0-cp39-abi3-manylinux_2_17_x86_64.manylinux2014_x86_64.whl.metadata (12 kB)\n",
            "Collecting rustworkx>=0.15.0 (from qiskit)\n",
            "  Downloading rustworkx-0.16.0-cp39-abi3-manylinux_2_17_x86_64.manylinux2014_x86_64.whl.metadata (10 kB)\n",
            "Requirement already satisfied: numpy<3,>=1.17 in /usr/local/lib/python3.11/dist-packages (from qiskit) (2.0.2)\n",
            "Requirement already satisfied: scipy>=1.5 in /usr/local/lib/python3.11/dist-packages (from qiskit) (1.14.1)\n",
            "Requirement already satisfied: sympy>=1.3 in /usr/local/lib/python3.11/dist-packages (from qiskit) (1.13.1)\n",
            "Collecting dill>=0.3 (from qiskit)\n",
            "  Downloading dill-0.3.9-py3-none-any.whl.metadata (10 kB)\n",
            "Requirement already satisfied: python-dateutil>=2.8.0 in /usr/local/lib/python3.11/dist-packages (from qiskit) (2.8.2)\n",
            "Collecting stevedore>=3.0.0 (from qiskit)\n",
            "  Downloading stevedore-5.4.1-py3-none-any.whl.metadata (2.3 kB)\n",
            "Requirement already satisfied: typing-extensions in /usr/local/lib/python3.11/dist-packages (from qiskit) (4.13.1)\n",
            "Collecting symengine<0.14,>=0.11 (from qiskit)\n",
            "  Downloading symengine-0.13.0-cp311-cp311-manylinux_2_17_x86_64.manylinux2014_x86_64.whl.metadata (1.2 kB)\n",
            "Requirement already satisfied: six>=1.5 in /usr/local/lib/python3.11/dist-packages (from python-dateutil>=2.8.0->qiskit) (1.17.0)\n",
            "Collecting pbr>=2.0.0 (from stevedore>=3.0.0->qiskit)\n",
            "  Downloading pbr-6.1.1-py2.py3-none-any.whl.metadata (3.4 kB)\n",
            "Requirement already satisfied: mpmath<1.4,>=1.1.0 in /usr/local/lib/python3.11/dist-packages (from sympy>=1.3->qiskit) (1.3.0)\n",
            "Requirement already satisfied: setuptools in /usr/local/lib/python3.11/dist-packages (from pbr>=2.0.0->stevedore>=3.0.0->qiskit) (75.2.0)\n",
            "Downloading qiskit-2.0.0-cp39-abi3-manylinux_2_17_x86_64.manylinux2014_x86_64.whl (6.5 MB)\n",
            "\u001b[2K   \u001b[90m━━━━━━━━━━━━━━━━━━━━━━━━━━━━━━━━━━━━━━━━\u001b[0m \u001b[32m6.5/6.5 MB\u001b[0m \u001b[31m38.8 MB/s\u001b[0m eta \u001b[36m0:00:00\u001b[0m\n",
            "\u001b[?25hDownloading dill-0.3.9-py3-none-any.whl (119 kB)\n",
            "\u001b[2K   \u001b[90m━━━━━━━━━━━━━━━━━━━━━━━━━━━━━━━━━━━━━━━━\u001b[0m \u001b[32m119.4/119.4 kB\u001b[0m \u001b[31m7.0 MB/s\u001b[0m eta \u001b[36m0:00:00\u001b[0m\n",
            "\u001b[?25hDownloading rustworkx-0.16.0-cp39-abi3-manylinux_2_17_x86_64.manylinux2014_x86_64.whl (2.1 MB)\n",
            "\u001b[2K   \u001b[90m━━━━━━━━━━━━━━━━━━━━━━━━━━━━━━━━━━━━━━━━\u001b[0m \u001b[32m2.1/2.1 MB\u001b[0m \u001b[31m48.9 MB/s\u001b[0m eta \u001b[36m0:00:00\u001b[0m\n",
            "\u001b[?25hDownloading stevedore-5.4.1-py3-none-any.whl (49 kB)\n",
            "\u001b[2K   \u001b[90m━━━━━━━━━━━━━━━━━━━━━━━━━━━━━━━━━━━━━━━━\u001b[0m \u001b[32m49.5/49.5 kB\u001b[0m \u001b[31m3.4 MB/s\u001b[0m eta \u001b[36m0:00:00\u001b[0m\n",
            "\u001b[?25hDownloading symengine-0.13.0-cp311-cp311-manylinux_2_17_x86_64.manylinux2014_x86_64.whl (49.7 MB)\n",
            "\u001b[2K   \u001b[90m━━━━━━━━━━━━━━━━━━━━━━━━━━━━━━━━━━━━━━━━\u001b[0m \u001b[32m49.7/49.7 MB\u001b[0m \u001b[31m14.4 MB/s\u001b[0m eta \u001b[36m0:00:00\u001b[0m\n",
            "\u001b[?25hDownloading pbr-6.1.1-py2.py3-none-any.whl (108 kB)\n",
            "\u001b[2K   \u001b[90m━━━━━━━━━━━━━━━━━━━━━━━━━━━━━━━━━━━━━━━━\u001b[0m \u001b[32m109.0/109.0 kB\u001b[0m \u001b[31m5.7 MB/s\u001b[0m eta \u001b[36m0:00:00\u001b[0m\n",
            "\u001b[?25hInstalling collected packages: symengine, rustworkx, pbr, dill, stevedore, qiskit\n",
            "Successfully installed dill-0.3.9 pbr-6.1.1 qiskit-2.0.0 rustworkx-0.16.0 stevedore-5.4.1 symengine-0.13.0\n"
          ]
        }
      ],
      "source": [
        "!pip install qiskit"
      ]
    },
    {
      "cell_type": "code",
      "source": [
        "from google.colab import drive\n",
        "drive.mount('/content/drive')"
      ],
      "metadata": {
        "id": "hoxVcoF3aVA6"
      },
      "execution_count": null,
      "outputs": []
    },
    {
      "cell_type": "code",
      "source": [
        "!pip install pylatexenc"
      ],
      "metadata": {
        "colab": {
          "base_uri": "https://localhost:8080/"
        },
        "id": "jn6RDZsrMz9Z",
        "outputId": "95c76cbd-3ed8-4405-d6fd-9568cb7e76ef"
      },
      "execution_count": null,
      "outputs": [
        {
          "output_type": "stream",
          "name": "stdout",
          "text": [
            "Collecting pylatexenc\n",
            "  Downloading pylatexenc-2.10.tar.gz (162 kB)\n",
            "\u001b[?25l     \u001b[90m━━━━━━━━━━━━━━━━━━━━━━━━━━━━━━━━━━━━━━━━\u001b[0m \u001b[32m0.0/162.6 kB\u001b[0m \u001b[31m?\u001b[0m eta \u001b[36m-:--:--\u001b[0m\r\u001b[2K     \u001b[91m━━━━━━━━━━━━━━━━━━━━━━━━━━━━━━━━━━\u001b[0m\u001b[90m╺\u001b[0m\u001b[90m━━━━\u001b[0m \u001b[32m143.4/162.6 kB\u001b[0m \u001b[31m5.0 MB/s\u001b[0m eta \u001b[36m0:00:01\u001b[0m\r\u001b[2K     \u001b[90m━━━━━━━━━━━━━━━━━━━━━━━━━━━━━━━━━━━━━━━\u001b[0m \u001b[32m162.6/162.6 kB\u001b[0m \u001b[31m3.2 MB/s\u001b[0m eta \u001b[36m0:00:00\u001b[0m\n",
            "\u001b[?25h  Preparing metadata (setup.py) ... \u001b[?25l\u001b[?25hdone\n",
            "Building wheels for collected packages: pylatexenc\n",
            "  Building wheel for pylatexenc (setup.py) ... \u001b[?25l\u001b[?25hdone\n",
            "  Created wheel for pylatexenc: filename=pylatexenc-2.10-py3-none-any.whl size=136817 sha256=29c781154d6dd3254764ca34e6cb13af321ad4572c6f0b2fa9ad3fc2df5fc311\n",
            "  Stored in directory: /root/.cache/pip/wheels/b1/7a/33/9fdd892f784ed4afda62b685ae3703adf4c91aa0f524c28f03\n",
            "Successfully built pylatexenc\n",
            "Installing collected packages: pylatexenc\n",
            "Successfully installed pylatexenc-2.10\n"
          ]
        }
      ]
    },
    {
      "cell_type": "markdown",
      "source": [],
      "metadata": {
        "id": "CNxioTKJRlH0"
      }
    },
    {
      "cell_type": "code",
      "source": [
        "from qiskit import *\n",
        "# import from the new visualization module\n",
        "from qiskit.visualization import plot_bloch_multivector"
      ],
      "metadata": {
        "id": "jDcFtaIqM29s"
      },
      "execution_count": null,
      "outputs": []
    },
    {
      "cell_type": "markdown",
      "source": [],
      "metadata": {
        "id": "KFbewc7DRkhF"
      }
    },
    {
      "cell_type": "code",
      "source": [
        "import matplotlib.pyplot as plt\n",
        "from qiskit import QuantumCircuit\n",
        "\n",
        "# Create a QuantumCircuit object\n",
        "circuit = QuantumCircuit(2)  # Example: 2 qubits circuit\n",
        "\n",
        "# Now you can draw the circuit\n",
        "circuit.draw(output=\"mpl\")"
      ],
      "metadata": {
        "colab": {
          "base_uri": "https://localhost:8080/",
          "height": 191
        },
        "id": "GuxmJzbqNe8_",
        "outputId": "7473eb6c-4eb7-46d3-cd4d-48fd79103ec0"
      },
      "execution_count": null,
      "outputs": [
        {
          "output_type": "execute_result",
          "data": {
            "text/plain": [
              "<Figure size 161.878x200.667 with 1 Axes>"
            ],
            "image/png": "[encoded data removed]"
          },
          "metadata": {},
          "execution_count": 11
        }
      ]
    },
    {
      "cell_type": "markdown",
      "source": [
        "Kodun Açıklaması:\n",
        "***import matplotlib.pyplot as plt\n",
        "\n",
        "==> Matplotlib, Python'da grafikler ve görselleştirmeler oluşturmak için kullanılan bir kütüphanedir. Burada, devreyi çizmek için kullanılacak.\n",
        "\n",
        "***from qiskit import QuantumCircuit\n",
        "\n",
        "==> Bu satırda, Qiskit kütüphanesinden QuantumCircuit sınıfını import ediyoruz. Bu sınıf, kuantum devreleri oluşturmak ve yönetmek için kullanılır.\n",
        "\n",
        "***circuit = QuantumCircuit(2)\n",
        "\n",
        "==> Burada, 2 qubitlik bir kuantum devresi oluşturuyoruz. QuantumCircuit(2) komutu ile 2 qubit içeren bir devre başlatıyoruz. Devre şu an sadece qubitler arasında bağlantı kurmamış, ancak boş bir yapı.\n",
        "\n",
        "***circuit.draw(output=\"mpl\")\n",
        "\n",
        "==> Bu satırda, oluşturduğumuz kuantum devresini çiziyoruz. output=\"mpl\" parametresi ile, devrenin Matplotlib ile çizilmesini sağlıyoruz. Bu da devreyi görselleştirip grafik olarak gösterir."
      ],
      "metadata": {
        "id": "QWcI4HF7SJjx"
      }
    },
    {
      "cell_type": "markdown",
      "source": [
        "\n",
        "Ne Oluyor?\n",
        "Bu kod çalıştırıldığında, basit bir kuantum devresi çizilecektir. Ancak bu devre henüz işlem yapmayan (kapı uygulanmamış) bir devredir.\n",
        "\n",
        "Eğer daha fazla kapı (gate) eklersek, örneğin bir Hadamard kapısı ekleyebiliriz, devredeki bağlantılar daha anlamlı hale gelir.\n",
        "\n"
      ],
      "metadata": {
        "id": "-uSWZGidTKi-"
      }
    },
    {
      "cell_type": "code",
      "source": [
        "qc=QuantumCircuit(2)\n",
        "qc.h(0)\n",
        "qc.cx(0,1)\n",
        "qc.draw(output='mpl')"
      ],
      "metadata": {
        "colab": {
          "base_uri": "https://localhost:8080/",
          "height": 191
        },
        "id": "I-nmi1egOjrH",
        "outputId": "41c72885-4d1b-49f7-8143-d8545583ddee"
      },
      "execution_count": null,
      "outputs": [
        {
          "output_type": "execute_result",
          "data": {
            "text/plain": [
              "<Figure size 287.294x200.667 with 1 Axes>"
            ],
            "image/png": "[encoded data removed]"
          },
          "metadata": {},
          "execution_count": 16
        }
      ]
    },
    {
      "cell_type": "markdown",
      "source": [
        "Bu kod, Qiskit kullanarak basit bir kuantum devresi oluşturur ve çizer. Adım adım açıklayalım:\n",
        "\n",
        "Kodun Açıklaması:\n",
        "qc = QuantumCircuit(2)\n",
        "\n",
        "Burada, 2 qubitlik bir kuantum devresi oluşturuluyor. QuantumCircuit(2) komutu ile iki qubit içeren bir devre başlatılmış olur.\n",
        "\n",
        "qc.h(0)\n",
        "\n",
        "Bu satırda, Hadamard kapısı (H) 0. qubit'e uygulanır. Hadamard kapısı, süperpozisyon oluşturmak için kullanılır. Bu kapı, qubit'in durumunu |0> veya |1>'in süperpozisyonu olarak değiştirir. Yani, 0. qubit’in durumu (|0> + |1>)/√2'ye dönüşür.\n",
        "\n",
        "qc.cx(0,1)\n",
        "\n",
        "Bu satırda, CNOT (Controlled-NOT) kapısı uygulanır. CNOT, bir kontrol qubit'i (burada 0. qubit) ve bir hedef qubit'i (burada 1. qubit) alır. Eğer kontrol qubit'i |1> durumundaysa, hedef qubit'in durumu tersine çevrilir. Yani, kontrol qubit'in durumu |1> ise hedef qubit |0>'dan |1>'e veya tam tersi şekilde döner. Eğer kontrol qubit'i |0> durumundaysa, hedef qubit'in durumu değişmez.\n",
        "\n",
        "qc.draw(output='mpl')\n",
        "\n",
        "Bu satırda, oluşturduğumuz kuantum devresi çizilir. output='mpl' parametresi, Matplotlib kütüphanesi kullanılarak görsel bir biçimde devrenin çizilmesini sağlar.\n",
        "\n",
        "Devreyi Anlamanın Yolu:\n",
        "0. qubit: Hadamard kapısı ile süperpozisyon oluşturulduktan sonra, hem |0> hem de |1> durumlarında olabilir.\n",
        "\n",
        "1. qubit: Başlangıçta |0> durumundadır, ancak CNOT kapısı nedeniyle kontrol qubit'in (0. qubit) durumuna göre tersine dönebilir.\n",
        "\n",
        "Devrenin Genel İşleyişi:\n",
        "Hadamard kapısı 0. qubit'e uygulandığında, bu qubit süperpozisyon durumuna geçer (hem 0 hem de 1 durumunda olabilir).\n",
        "\n",
        "CNOT kapısı ise, 0. qubit'in durumuna bağlı olarak 1. qubit'in durumunu değiştirir.\n",
        "\n",
        "Sonuç olarak, bu devre, kuantum dolaşıklığı yaratacak bir yapı oluşturur. 0. qubit ve 1. qubit birbirine dolaşmış hale gelir, yani bir qubit'in durumunu ölçtüğünüzde, diğer qubit'in durumu da belirlenecektir.\n",
        "\n",
        "Görselde Ne Olur?\n",
        "Devre çizildiğinde, aşağıdaki gibi bir şey görürsünüz:\n",
        "\n",
        "Hadamard kapısı 0. qubit üzerinde, CNOT kapısı 0. qubit'i kontrol ederek 1. qubit üzerinde etki eder."
      ],
      "metadata": {
        "id": "mtk_IQ0qWNXi"
      }
    }
  ]
}